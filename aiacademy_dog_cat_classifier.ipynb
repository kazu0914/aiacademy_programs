{
  "nbformat": 4,
  "nbformat_minor": 0,
  "metadata": {
    "colab": {
      "name": "aiacademy_dog_cat_classifier.ipynb",
      "version": "0.3.2",
      "provenance": []
    },
    "kernelspec": {
      "name": "python3",
      "display_name": "Python 3"
    },
    "accelerator": "GPU"
  },
  "cells": [
    {
      "cell_type": "code",
      "metadata": {
        "id": "yQDWl5SOI4Eb",
        "colab_type": "code",
        "outputId": "230677cd-a2ca-4912-e691-8706e6d90155",
        "colab": {
          "base_uri": "https://localhost:8080/",
          "height": 275
        }
      },
      "source": [
        "!pip install icrawler"
      ],
      "execution_count": 0,
      "outputs": [
        {
          "output_type": "stream",
          "text": [
            "Collecting icrawler\n",
            "  Downloading https://files.pythonhosted.org/packages/78/a2/1ac26a2c39b87bef4ef8cb39cb4f33e04041f4a9f04f8cc3dfa1251e0304/icrawler-0.6.2-py2.py3-none-any.whl\n",
            "Requirement already satisfied: Pillow in /usr/local/lib/python3.6/dist-packages (from icrawler) (4.3.0)\n",
            "Requirement already satisfied: beautifulsoup4>=4.4.1 in /usr/local/lib/python3.6/dist-packages (from icrawler) (4.6.3)\n",
            "Requirement already satisfied: requests>=2.9.1 in /usr/local/lib/python3.6/dist-packages (from icrawler) (2.21.0)\n",
            "Requirement already satisfied: lxml in /usr/local/lib/python3.6/dist-packages (from icrawler) (4.2.6)\n",
            "Requirement already satisfied: six>=1.10.0 in /usr/local/lib/python3.6/dist-packages (from icrawler) (1.12.0)\n",
            "Requirement already satisfied: olefile in /usr/local/lib/python3.6/dist-packages (from Pillow->icrawler) (0.46)\n",
            "Requirement already satisfied: idna<2.9,>=2.5 in /usr/local/lib/python3.6/dist-packages (from requests>=2.9.1->icrawler) (2.8)\n",
            "Requirement already satisfied: certifi>=2017.4.17 in /usr/local/lib/python3.6/dist-packages (from requests>=2.9.1->icrawler) (2019.6.16)\n",
            "Requirement already satisfied: urllib3<1.25,>=1.21.1 in /usr/local/lib/python3.6/dist-packages (from requests>=2.9.1->icrawler) (1.24.3)\n",
            "Requirement already satisfied: chardet<3.1.0,>=3.0.2 in /usr/local/lib/python3.6/dist-packages (from requests>=2.9.1->icrawler) (3.0.4)\n",
            "Installing collected packages: icrawler\n",
            "Successfully installed icrawler-0.6.2\n"
          ],
          "name": "stdout"
        }
      ]
    },
    {
      "cell_type": "code",
      "metadata": {
        "id": "gvrEKjtRI9I_",
        "colab_type": "code",
        "outputId": "ebcf3de2-901f-465f-f187-fda628632af1",
        "colab": {
          "base_uri": "https://localhost:8080/",
          "height": 1000
        }
      },
      "source": [
        "from icrawler.builtin import GoogleImageCrawler\n",
        "\n",
        "# 猫の画像を100枚取得\n",
        "crawler = GoogleImageCrawler(storage={\"root_dir\": \"cats\"})\n",
        "crawler.crawl(keyword=\"猫\", max_num=100)"
      ],
      "execution_count": 0,
      "outputs": [
        {
          "output_type": "stream",
          "text": [
            "2019-07-07 06:34:47,503 - INFO - icrawler.crawler - start crawling...\n",
            "2019-07-07 06:34:47,504 - INFO - icrawler.crawler - starting 1 feeder threads...\n",
            "2019-07-07 06:34:47,511 - INFO - feeder - thread feeder-001 exit\n",
            "2019-07-07 06:34:47,512 - INFO - icrawler.crawler - starting 1 parser threads...\n",
            "2019-07-07 06:34:47,519 - INFO - icrawler.crawler - starting 1 downloader threads...\n",
            "2019-07-07 06:34:48,128 - INFO - parser - parsing result page https://www.google.com/search?q=%E7%8C%AB&ijn=0&start=0&tbs=&tbm=isch\n",
            "2019-07-07 06:34:50,849 - INFO - downloader - image #1\thttps://img0.pclady.com.cn/pclady/pet/choice/cat/1701/6.jpg\n",
            "2019-07-07 06:34:51,379 - INFO - downloader - image #2\thttps://upload.wikimedia.org/wikipedia/commons/thumb/3/3a/Cat03.jpg/230px-Cat03.jpg\n",
            "2019-07-07 06:34:51,576 - INFO - downloader - image #3\thttps://pic4.zhimg.com/80/v2-2e21b2dcaf9233c5697c46524b2f4aae_qhd.jpg\n",
            "2019-07-07 06:34:51,611 - INFO - downloader - image #4\thttps://yt3.ggpht.com/a/AGF-l7_wql0rgr1h1lH6RTewb49dOx4YmI81-zVBNg=s900-mo-c-c0xffffffff-rj-k-no\n",
            "2019-07-07 06:34:51,787 - INFO - downloader - image #5\thttps://pic2.zhimg.com/v2-0f46e56eb41906c6969540478bae5184_1200x500.jpg\n",
            "2019-07-07 06:34:53,818 - INFO - downloader - image #6\thttps://img1.gtimg.com/ninja/1/2019/01/ninja154683847852264.jpg\n",
            "2019-07-07 06:34:53,849 - INFO - downloader - image #7\thttps://i.ytimg.com/vi/fhJe4noc5o4/maxresdefault.jpg\n",
            "2019-07-07 06:34:56,354 - INFO - downloader - image #8\thttps://gss1.bdstatic.com/-vo3dSag_xI4khGkpoWK1HF6hhy/baike/c0%3Dbaike60%2C5%2C5%2C60%2C20/sign=4058d79e0ef41bd5ce5ee0a630b3eaae/730e0cf3d7ca7bcb3700f79abe096b63f624a80f.jpg\n",
            "2019-07-07 06:34:57,171 - INFO - downloader - image #9\thttp://hznews.hangzhou.com.cn/jingji/content/attachement/jpg/site2/20180126/002324b7ffa51bd4c62714.jpg\n",
            "2019-07-07 06:34:57,457 - INFO - downloader - image #10\thttps://www.zhifure.com/upload/images/2018/7/1712929480.jpg\n",
            "2019-07-07 06:34:58,296 - INFO - downloader - image #11\thttps://ichef.bbci.co.uk/news/624/cpsprodpb/14DD1/production/_103175458_p06f24vf.jpg\n",
            "2019-07-07 06:34:58,457 - INFO - downloader - image #12\thttp://n.sinaimg.cn/translate/w1280h1280/20171211/hsEC-fypnsip6872500.jpg\n",
            "2019-07-07 06:34:58,473 - INFO - downloader - image #13\thttps://ichef.bbci.co.uk/news/660/cpsprodpb/42E2/production/_96522171_gettyimages-450864271.jpg\n",
            "2019-07-07 06:34:58,832 - INFO - downloader - image #14\thttp://www.xinhuanet.com/fortune/2019-02/11/1124097480_15498428892771n.jpg\n",
            "2019-07-07 06:34:58,842 - INFO - downloader - image #15\thttp://n.sinaimg.cn/news/transform/20171113/puY7-fynship2141885.jpg\n",
            "2019-07-07 06:34:59,103 - INFO - downloader - image #16\thttps://pic4.zhimg.com/v2-043398603d91a7a9932e9e55e1fb6504_r.jpg\n",
            "2019-07-07 06:34:59,204 - INFO - downloader - image #17\thttp://timable.com/res/pic/84e4cdc6a00ef38cf9c8a48a0b1f3f0f3.jpg\n",
            "2019-07-07 06:34:59,289 - INFO - downloader - image #18\thttps://upload.wikimedia.org/wikipedia/commons/thumb/9/93/Cat_poster_2.jpg/220px-Cat_poster_2.jpg\n",
            "2019-07-07 06:35:00,567 - INFO - downloader - image #19\thttps://gss0.baidu.com/-fo3dSag_xI4khGko9WTAnF6hhy/zhidao/pic/item/e4dde71190ef76c6895d9cd59616fdfaae516744.jpg\n",
            "2019-07-07 06:35:03,396 - INFO - downloader - image #20\thttp://img.sj33.cn/uploads/allimg/201612/7-1612020U410.jpg\n",
            "2019-07-07 06:35:04,440 - INFO - downloader - image #21\thttp://image.nbd.com.cn/uploads/articles/images/653098/QQ__20190310165941.x_large.jpg\n",
            "2019-07-07 06:35:05,581 - INFO - downloader - image #22\thttp://i0.hdslb.com/bfs/archive/6c077a915de9327860dcd94fa38e988f83d6decc.jpg\n",
            "2019-07-07 06:35:07,036 - INFO - downloader - image #23\thttps://china.zjol.com.cn/ktx/201709/W020170907577401409420.jpg\n",
            "2019-07-07 06:35:07,590 - INFO - downloader - image #24\thttp://cms-bucket.ws.126.net/2019/03/15/48e4f64470604735a959d68f2571a7f3.jpeg?imageView&thumbnail=550x0\n",
            "2019-07-07 06:35:08,113 - INFO - downloader - image #25\thttps://www.ruan8.com/uploadimg/image/20180707/20180707135827_51218.jpg\n",
            "2019-07-07 06:35:08,126 - INFO - downloader - image #26\thttps://i.ytimg.com/vi/8OU_3thCowA/maxresdefault.jpg\n",
            "2019-07-07 06:35:08,294 - INFO - downloader - image #27\thttp://cms-bucket.nosdn.127.net/19c14675d093469f9bc6949beb0894b620171117232937.jpeg?imageView&thumbnail=550x0\n",
            "2019-07-07 06:35:08,418 - INFO - downloader - image #28\thttp://m.360buyimg.com/pop/jfs/t25210/56/234091480/150572/e43d5d69/5b6973afNf419462e.jpg\n",
            "2019-07-07 06:35:08,946 - INFO - downloader - image #29\thttp://a0.att.hudong.com/27/42/50200009239445155970427482401_s.jpg\n",
            "2019-07-07 06:35:09,353 - INFO - downloader - image #30\thttp://img.qdaily.com/article/article_show/20190311132331ioZybYtk2X6qOSuN.jpg?imageMogr2/auto-orient/thumbnail/!755x450r/gravity/Center/crop/755x450/ignore-error/1\n",
            "2019-07-07 06:35:10,040 - INFO - downloader - image #31\thttp://cdn.wecarepet.net/upload/image_160140_1514887448428.jpeg\n",
            "2019-07-07 06:35:10,105 - INFO - downloader - image #32\thttp://n.sinaimg.cn/translate/20171110/cnnX-fynstfh3264326.jpg\n",
            "2019-07-07 06:35:11,044 - INFO - downloader - image #33\thttps://huiji-thumb.huijistatic.com/gbf/uploads/thumb/6/6c/Lh250301_wa_0_01.png/300px-Lh250301_wa_0_01.png\n",
            "2019-07-07 06:35:11,366 - INFO - downloader - image #34\thttps://pic3.zhimg.com/v2-7725c7f7787dda19a36c9df94a3272ac_1200x500.jpg\n",
            "2019-07-07 06:35:11,384 - INFO - downloader - image #35\thttps://www.zhifure.com/upload/images/2018/8/6924717.jpg\n",
            "2019-07-07 06:35:11,483 - INFO - downloader - image #36\thttps://upload.wikimedia.org/wikipedia/commons/thumb/7/73/Cat_eyes_change.jpg/200px-Cat_eyes_change.jpg\n",
            "2019-07-07 06:35:13,142 - INFO - downloader - image #37\thttp://www.ansll.com/wp-content/uploads/2019/05/6bb61e3b7bce093-3.jpg\n",
            "2019-07-07 06:35:13,377 - INFO - downloader - image #38\thttp://kitan.jp/contents/wp-content/uploads/2018/09/0016.jpg\n",
            "2019-07-07 06:35:13,401 - INFO - downloader - image #39\thttps://ichef.bbci.co.uk/news/660/cpsprodpb/1912/production/_105981460_d9ff6226-aae3-4bba-8634-d26742299c80.jpg\n",
            "2019-07-07 06:35:14,271 - INFO - downloader - image #40\thttps://gss2.bdstatic.com/-fo3dSag_xI4khGkpoWK1HF6hhy/baike/s%3D220/sign=bbfdddf7fadeb48fff69a6dcc01e3aef/c83d70cf3bc79f3dbedba3a6b3a1cd11728b2969.jpg\n",
            "2019-07-07 06:35:14,644 - INFO - downloader - image #41\thttps://img.japhub.com/201806/fSIjtBGF.jpg\n",
            "2019-07-07 06:35:14,772 - INFO - downloader - image #42\thttp://www.hereinuk.com/wp-content/uploads/2016/06/14654596596466.jpg\n",
            "2019-07-07 06:35:15,123 - INFO - downloader - image #43\thttp://www.maomipuzi.com/upfile/info/2018-09-13/5b9a098280a30_small.jpg\n",
            "2019-07-07 06:35:15,471 - INFO - downloader - image #44\thttps://wx2.sinaimg.cn/large/6783d686gy1g2bpmvoie5j20rs0fmkd5.jpg\n",
            "2019-07-07 06:35:15,623 - INFO - downloader - image #45\thttp://img.qdaily.com/article/article_show/20171026054520dXzopu1RBgeAK8yI.jpg?imageMogr2/auto-orient/thumbnail/!755x450r/gravity/Center/crop/755x450/ignore-error/1\n",
            "2019-07-07 06:35:15,807 - INFO - downloader - image #46\thttp://a0.att.hudong.com/88/12/01300001024098155542121166241_s.jpg\n",
            "2019-07-07 06:35:16,974 - INFO - downloader - image #47\thttps://static01.nyt.com/images/2017/05/02/science/02OBSCATS/02OBSCATS-master1050.jpg\n",
            "2019-07-07 06:35:18,482 - INFO - downloader - image #48\thttp://www.leesharing.com/wp-content/uploads/2019/03/cm.jpg\n",
            "2019-07-07 06:35:18,877 - INFO - downloader - image #49\thttp://language.chinadaily.com.cn/att/site1/20160728/64006a47a4041903e93b22.jpeg\n",
            "2019-07-07 06:35:21,397 - INFO - downloader - image #50\thttp://pic1.win4000.com/wallpaper/9/500e485ae2c38.jpg\n",
            "2019-07-07 06:35:21,745 - INFO - downloader - image #51\thttps://s3.ifanr.com/wp-content/uploads/2019/05/41399.jpg!720\n",
            "2019-07-07 06:35:22,546 - INFO - downloader - image #52\thttp://img.boqiicdn.com/Data/BK/A/1407/17/img251405586892_y.jpg\n",
            "2019-07-07 06:35:23,324 - INFO - downloader - image #53\thttp://www.artnet.com/WebServices/images/ll04329lldGJvGFgX31E3CfDrCWvaHBOcpeUD/huang-junbi-%E4%B8%B4%E5%85%AB%E5%A4%A7%E5%B1%B1%E4%BA%BA%E7%8C%AB-(cat).jpg\n",
            "2019-07-07 06:35:23,415 - INFO - downloader - image #54\thttps://pic1.zhimg.com/50/v2-40b17763b4eb99ed91c3be971516cc98_hd.jpg\n",
            "2019-07-07 06:35:24,597 - INFO - downloader - image #55\thttps://pic.36krcnd.com/avatar/201801/04113952/0aludearg4cetij7.png!1200\n",
            "2019-07-07 06:35:25,183 - INFO - downloader - image #56\thttps://i.zgjm.net/wen/201901/575.jpg\n",
            "2019-07-07 06:35:25,459 - INFO - downloader - image #57\thttps://cdn.hk01.com/di/media/images/1206139/org/25013acc37218bc3df1f253a41990bb0.jpg/3sG6rLU_LcjL3s9naluUJSNCTYETvOBhQ4x8J0OMfCc?v=w1920\n",
            "2019-07-07 06:35:25,670 - INFO - downloader - image #58\thttps://upload-images.jianshu.io/upload_images/6465079-5701f50ed6f8a883?imageMogr2/auto-orient/strip%7CimageView2/2/w/640/format/webp\n",
            "2019-07-07 06:35:27,631 - INFO - downloader - image #59\thttp://img5.mtime.cn/CMS/News/2019/03/08/130630.19679251_620X620.jpg\n",
            "2019-07-07 06:35:28,579 - INFO - downloader - image #60\thttps://desk-fd.zol-img.com.cn/t_s960x600c5/g5/M00/06/08/ChMkJlZXu1KIeXzYAANm47tKrd4AAFZagEV0JkAA2b7289.jpg\n",
            "2019-07-07 06:35:44,024 - INFO - downloader - image #61\thttp://t1.58cdn.com.cn/bidding/small/n_v2d027d23c17fa455eaf1801584cdba1fe.jpg\n",
            "2019-07-07 06:35:44,541 - INFO - downloader - image #62\thttps://img.fuyuandian.com/d/2018/08/5b739eb058c78.jpg\n",
            "2019-07-07 06:35:44,583 - INFO - downloader - image #63\thttps://cdn.hk01.com/di/media/images/740755/org/03e7d986fe88c9daa13b90c513629d61.jpg/aAgpRhvx34zlkA1Y8oHoyVB3HAtgcwr6lHSHZZR0h2U?v=w1920\n",
            "2019-07-07 06:35:45,103 - INFO - downloader - image #64\thttp://i1.hdslb.com/bfs/archive/a0803ca0b2ec24eb32ae276924f22b1431c18d76.jpg\n",
            "2019-07-07 06:35:45,274 - INFO - downloader - image #65\thttp://i.epochtimes.com/assets/uploads/2019/02/GettyImages-915821480-600x400.jpg\n",
            "2019-07-07 06:35:45,549 - INFO - downloader - image #66\thttp://5b0988e595225.cdn.sohucs.com/images/20171207/7cce64c8f8974d0b8befbaa2af3def16.jpeg\n",
            "2019-07-07 06:35:45,828 - INFO - downloader - image #67\thttps://is5-ssl.mzstatic.com/image/thumb/Purple113/v4/1b/06/40/1b06406f-5c17-b00b-e2d3-afc2194b9c20/AppIcon-0-1x_U007emarketing-0-0-sRGB-85-220-10.png/246x0w.jpg\n",
            "2019-07-07 06:35:47,063 - INFO - downloader - image #68\thttps://img2.secretchina.com/pic/2019/3-11/p2379101a991953623-ss.jpg\n",
            "2019-07-07 06:35:48,356 - INFO - downloader - image #69\thttp://royal-canin.cn:81/lib/images/default-source/%E7%9A%87%E5%AE%B6%E4%BA%A7%E5%93%81/%E7%8C%AB/%E8%90%A5%E5%85%BB%E7%8C%AB%E7%B2%AE/1-12%E6%9C%88%E5%B9%BC%E7%8C%AB/%E7%9A%87%E5%AE%B6%E4%BA%A7%E5%93%81-%E7%8C%AB-1-12%E6%9C%88%E5%B9%BC%E7%8C%AB-banner-mobile.png?sfvrsn=2\n",
            "2019-07-07 06:35:50,194 - INFO - downloader - image #70\thttps://www.maodao.club/wp-content/uploads/2019/02/cat-1996569_1280.jpg\n",
            "2019-07-07 06:35:50,771 - INFO - downloader - image #71\thttp://www.maomipuzi.com/upfile/info/2019-06-25/5d120f1d00218_small.jpg\n",
            "2019-07-07 06:35:51,005 - INFO - downloader - image #72\thttps://wx3.sinaimg.cn/orj360/006ZhtyFgy1g4p1ypscyaj30r30zkwjx.jpg\n",
            "2019-07-07 06:35:52,478 - INFO - downloader - image #73\thttps://www.cdstm.cn/gallery/media/mkjx/bktmwzdq/201808/W020180817795946003487.jpg\n",
            "2019-07-07 06:35:52,925 - INFO - downloader - image #74\thttp://c1.cdn.goumin.com/cms/detail/day_160914/20160914_5a200c7.jpg\n",
            "2019-07-07 06:35:53,007 - INFO - parser - no more page urls for thread parser-001 to parse\n",
            "2019-07-07 06:35:53,009 - INFO - parser - thread parser-001 exit\n",
            "2019-07-07 06:35:53,790 - INFO - downloader - image #75\thttp://www.catcat.me/wp-content/uploads/2019/03/cf56d4ea44214cbab3f676c49975ce54-506x350.jpg\n",
            "2019-07-07 06:35:54,563 - INFO - downloader - image #76\thttps://img0.pchouse.com.cn/pchouse/1508/05/1222872_30.png\n",
            "2019-07-07 06:35:54,618 - INFO - downloader - image #77\thttp://i.epochtimes.com/assets/uploads/2017/06/Screen-Shot-2017-12-05-at-4.26.17-PM-600x400.jpg\n",
            "2019-07-07 06:35:59,619 - INFO - downloader - no more download task for thread downloader-001\n",
            "2019-07-07 06:35:59,621 - INFO - downloader - thread downloader-001 exit\n",
            "2019-07-07 06:36:00,604 - INFO - icrawler.crawler - Crawling task done!\n"
          ],
          "name": "stderr"
        }
      ]
    },
    {
      "cell_type": "code",
      "metadata": {
        "id": "P9sdD_DYJF99",
        "colab_type": "code",
        "outputId": "c647d8a7-3907-4a48-ff6e-7d4125803648",
        "colab": {
          "base_uri": "https://localhost:8080/",
          "height": 1000
        }
      },
      "source": [
        "# 犬の画像を100枚取得\n",
        "crawler = GoogleImageCrawler(storage={\"root_dir\": \"dogs\"})\n",
        "crawler.crawl(keyword=\"犬\", max_num=100)"
      ],
      "execution_count": 0,
      "outputs": [
        {
          "output_type": "stream",
          "text": [
            "2019-07-07 06:36:59,215 - INFO - icrawler.crawler - start crawling...\n",
            "2019-07-07 06:36:59,216 - INFO - icrawler.crawler - starting 1 feeder threads...\n",
            "2019-07-07 06:36:59,218 - INFO - feeder - thread feeder-001 exit\n",
            "2019-07-07 06:36:59,218 - INFO - icrawler.crawler - starting 1 parser threads...\n",
            "2019-07-07 06:36:59,222 - INFO - icrawler.crawler - starting 1 downloader threads...\n",
            "2019-07-07 06:36:59,815 - INFO - parser - parsing result page https://www.google.com/search?q=%E7%8A%AC&ijn=0&start=0&tbs=&tbm=isch\n",
            "2019-07-07 06:37:00,074 - INFO - downloader - image #1\thttps://www.min-inuzukan.com/images/dog_img_shiba.jpg?18102302\n",
            "2019-07-07 06:37:00,548 - INFO - downloader - image #2\thttps://grapee.jp/wp-content/uploads/33342_main1.jpg\n",
            "2019-07-07 06:37:00,692 - INFO - downloader - image #3\thttps://dol.ismcdn.jp/mwimgs/7/1/670m/img_71c53c1d81500a1cf73a4f543e72413f27838.jpg\n",
            "2019-07-07 06:37:01,530 - INFO - downloader - image #4\thttps://d3utmhtlcphhyc.cloudfront.net/files/topics/19_ext_01_3.png\n",
            "2019-07-07 06:37:02,091 - INFO - downloader - image #5\thttps://www.1242.com/lf/asset/uploads/2018/01/dog-3045116_1280a.jpg\n",
            "2019-07-07 06:37:02,153 - INFO - downloader - image #6\thttps://www.min-inuzukan.com/images/dog_img_long-chihuahua.jpg?18102302\n",
            "2019-07-07 06:37:02,652 - INFO - downloader - image #7\thttps://storage.tenki.jp/storage/static-images/suppl/article/image/2/27/277/27740/1/large.jpg\n",
            "2019-07-07 06:37:02,978 - INFO - downloader - image #8\thttps://image.itmedia.co.jp/nl/articles/1810/19/kh_1810inuyasumi01.jpg\n",
            "2019-07-07 06:37:03,224 - INFO - downloader - image #9\thttps://s3-ap-northeast-1.amazonaws.com/petpedia/upload_by_admin/house_dog_thumbnail_800.jpg\n",
            "2019-07-07 06:37:03,552 - INFO - downloader - image #10\thttps://cdn.mofmo.jp/v3/640/imeditor_storage/1/article/387788440.jpg\n",
            "2019-07-07 06:37:03,887 - INFO - downloader - image #11\thttps://upload.wikimedia.org/wikipedia/commons/thumb/e/e3/Coat_types_3.jpg/240px-Coat_types_3.jpg\n",
            "2019-07-07 06:37:04,054 - INFO - downloader - image #12\thttps://s3-ap-northeast-1.amazonaws.com/lifull-homes-press/uploads/press/2016/03/pixta_7998197_S.jpg\n",
            "2019-07-07 06:37:04,412 - INFO - downloader - image #13\thttps://cdn.qetic.jp/wp-content/uploads/2019/01/20060010/boo1.jpg\n",
            "2019-07-07 06:37:04,897 - INFO - downloader - image #14\thttps://maigo-pet.net/tokusyuu/img/dog-maigo-4.jpg\n",
            "2019-07-07 06:37:05,083 - INFO - downloader - image #15\thttps://serai.kusanagi-cdn.com/wp-content/uploads/2017/07/f86d6921a217ccf51113e69c27326c88-700x468.jpg\n",
            "2019-07-07 06:37:05,859 - INFO - downloader - image #16\thttps://www.japanhouse.jp/images/stories/10/dog_1_4.jpg\n",
            "2019-07-07 06:37:06,117 - INFO - downloader - image #17\thttps://d1d7kfcb5oumx0.cloudfront.net/articles/images/5d1d841f6c438202879b118c/thumb_0.jpg\n",
            "2019-07-07 06:37:06,715 - INFO - downloader - image #18\thttps://cdn-natgeo.nikkeibp.co.jp/atcl/news/17/062700244/06.jpg?__scale=w:500,h:332&_sh=0b0a90820d\n",
            "2019-07-07 06:37:06,966 - INFO - downloader - image #19\thttp://www.min-petlife.com/data/article/89188/main_89188_d820b_detail.jpg\n",
            "2019-07-07 06:37:07,548 - INFO - downloader - image #20\thttp://nanmoda.jp/wp/wp-content/themes/nanmoda/resources/img/akitainu/akitainu_01/akitainu_01_top.jpg\n",
            "2019-07-07 06:37:07,895 - INFO - downloader - image #21\thttps://www.lifeboat.or.jp/satooya/dog/photo_dogs/cd2919_c_m.jpg\n",
            "2019-07-07 06:37:08,163 - INFO - downloader - image #22\thttps://www.axa-direct.co.jp/pet/pet-ms/img/media/2018/07/img_akita_kind-dog_kv-710x398.jpg\n",
            "2019-07-07 06:37:08,721 - INFO - downloader - image #23\thttp://livedoor.blogimg.jp/karapaia_zaeega/imgs/7/2/72234259.jpg\n",
            "2019-07-07 06:37:09,062 - INFO - downloader - image #24\thttps://www.city.sapporo.jp/inuneko/syuuyou_doubutsu/images/052401-2.jpg\n",
            "2019-07-07 06:37:09,209 - INFO - downloader - image #25\thttps://www.min-inuzukan.com/images/dog_img_tiny-poodle.jpg?18102302\n",
            "2019-07-07 06:37:09,551 - INFO - downloader - image #26\thttps://public.potaufeu.asahi.com/4bb2-p/picture/14123801/6f03f245281fc941053610a5dd00b020.jpg\n",
            "2019-07-07 06:37:09,950 - INFO - downloader - image #27\thttps://doghuggy.com/media/wp-content/uploads/2018/06/gahag-0010132490-2.jpg\n",
            "2019-07-07 06:37:10,120 - INFO - downloader - image #28\thttp://livedoor.blogimg.jp/laba_q/imgs/e/a/ea91b8d2.jpg\n",
            "2019-07-07 06:37:10,590 - INFO - downloader - image #29\thttps://image1.shopserve.jp/pecohug.co.jp/pic-labo/mamechiyo500x500.jpg\n",
            "2019-07-07 06:37:11,182 - INFO - downloader - image #30\thttps://www.veterinary-adoption.com/UPLOAD/animal/6786.jpg\n",
            "2019-07-07 06:37:11,351 - INFO - downloader - image #31\thttp://livedoor.blogimg.jp/karapaia_zaeega/imgs/c/b/cb17eac2.jpg\n",
            "2019-07-07 06:37:11,750 - INFO - downloader - image #32\thttps://www.1242.com/lf/asset/uploads/2017/08/TOP.ajpg_.jpg\n",
            "2019-07-07 06:37:12,115 - INFO - downloader - image #33\thttp://www.worldfolksong.com/songbook/animal/img/cute_dogs01.jpg\n",
            "2019-07-07 06:37:12,280 - INFO - downloader - image #34\thttps://pbs.twimg.com/media/DZHWbUKVwAENcHP.jpg\n",
            "2019-07-07 06:37:12,644 - INFO - downloader - image #35\thttps://wanpedia.com/wordpress/wp-content/uploads/2016/05/dbc4aa4acbffa249faefa83e88c132bd-1-min.jpg\n",
            "2019-07-07 06:37:12,963 - INFO - downloader - image #36\thttps://img.travel.rakuten.co.jp/mytrip/content/ranking/dog/images/2018top20_01.jpg\n",
            "2019-07-07 06:37:13,246 - INFO - downloader - image #37\thttps://www.lifeboat.or.jp/satooya/dog/photo_dogs/id3503_d_m.jpg\n",
            "2019-07-07 06:37:13,654 - INFO - downloader - image #38\thttps://www.newsweekjapan.jp/stories/assets_c/2018/04/corgi-180412-thumb-720xauto-132791.jpg\n",
            "2019-07-07 06:37:13,893 - INFO - downloader - image #39\thttp://psnews.jp/dog/uploads/2018/05/6ac99dee583c396ef3fe95a4441feef6.jpg\n",
            "2019-07-07 06:37:14,378 - INFO - downloader - image #40\thttps://www.pet-coo.com/coo_image/pet/photo/0042820501.jpg\n",
            "2019-07-07 06:37:14,648 - INFO - downloader - image #41\thttps://www.axa-direct.co.jp/pet/pet-ms/img/media/2018/05/img_keep_kv-710x398.jpeg\n",
            "2019-07-07 06:37:14,762 - INFO - downloader - image #42\thttps://i1.wp.com/waraukurumi.com/wp-content/uploads/2018/09/pooping-pooches-dog-calendar-5ba1f6d7d33f9__700-1.jpg?fit=700%2C608&ssl=1\n",
            "2019-07-07 06:37:14,786 - INFO - downloader - image #43\thttps://i.ytimg.com/vi/b3obPCGhZOA/maxresdefault.jpg\n",
            "2019-07-07 06:37:15,273 - INFO - downloader - image #44\thttps://fotopus.com/inu/images/top/mainImage_mp_02.jpg\n",
            "2019-07-07 06:37:15,563 - INFO - downloader - image #45\thttp://teamhope-f.jp/content/images/cr/40212361sq.jpg\n",
            "2019-07-07 06:37:15,900 - INFO - downloader - image #46\thttps://s3-ap-northeast-1.amazonaws.com/jp.co.web-concierge-assets/production/paragraph/images/image01s/79d/79d26822-2572-46db-8922-4355adccfd3d/original.png\n",
            "2019-07-07 06:37:16,005 - INFO - downloader - image #47\thttps://s3-ap-northeast-1.amazonaws.com/dev.ribbon-s3-jpn/image-pet-2140-20190629002842-1.jpeg\n",
            "2019-07-07 06:37:16,107 - INFO - downloader - image #48\thttps://pbs.twimg.com/media/D-Rl0afUIAAP1iB.jpg\n",
            "2019-07-07 06:37:16,255 - INFO - downloader - image #49\thttps://afpbb.ismcdn.jp/mwimgs/e/c/-/img_ec13f148968f0570565db4e52cff074d153075.jpg\n",
            "2019-07-07 06:37:17,232 - INFO - downloader - image #50\thttps://store.docdog.jp/store/Images/Products/DD1-BDD02_07.png\n",
            "2019-07-07 06:37:17,309 - INFO - downloader - image #51\thttps://s3-ap-northeast-1.amazonaws.com/storage.withnews.jp/2019/05/06/c/12/c12a4025-sl.jpg\n",
            "2019-07-07 06:37:17,708 - INFO - downloader - image #52\thttps://www.green-dog.com/cocokara/wp/wp-content/uploads/7564-00085_1.jpg\n",
            "2019-07-07 06:37:18,149 - INFO - downloader - image #53\thttp://www.baikousou.co.jp/wp/wp-content/uploads/1a80b86f413f2c3d5c9a8a9609191ea2.jpg\n",
            "2019-07-07 06:37:18,452 - INFO - downloader - image #54\thttps://www.petfamilyins.co.jp/pns/wp-content/uploads/2017/11/1.Hollysdogs_shutterstock_534809383_eye-300x254.jpg\n",
            "2019-07-07 06:37:18,947 - INFO - downloader - image #55\thttps://public.potaufeu.asahi.com/cacf-p/picture/16548832/24de2df7531fcbe710383b70f7ce6f6c.jpg\n",
            "2019-07-07 06:37:19,496 - INFO - downloader - image #56\thttps://cdnx.natalie.mu/media/news/eiga/2018/1226/sibakoen_20181227_13_fixw_730_hq.jpg\n",
            "2019-07-07 06:37:19,747 - INFO - downloader - image #57\thttp://psnews.jp/dog/uploads/2018/01/eye5.jpg\n",
            "2019-07-07 06:37:19,837 - INFO - downloader - image #58\thttps://www.japanhouse.jp/images/stories/10/dog_1_9.jpg\n",
            "2019-07-07 06:37:19,863 - INFO - downloader - image #59\thttps://i.ytimg.com/vi/44YRTuN55Io/maxresdefault.jpg\n",
            "2019-07-07 06:37:20,397 - INFO - downloader - image #60\thttps://www.jalan.net/news/img/2017/11/1711_tokai_5_1_040-670x443.jpg\n",
            "2019-07-07 06:37:21,090 - INFO - downloader - image #61\thttps://www.city.otaru.lg.jp/simin/anzen/doubutu/dog.data/H1-2.JPG\n",
            "2019-07-07 06:37:21,633 - INFO - downloader - image #62\thttp://www.city.nagoya.jp/kenkofukushi/cmsfiles/contents/0000014/14182/kyababi-2.JPG\n",
            "2019-07-07 06:37:22,090 - INFO - downloader - image #63\thttps://zipang-dog.com/asset/img/content/nihonken.jpg\n",
            "2019-07-07 06:37:22,226 - INFO - downloader - image #64\thttps://img.buzzfeed.com/buzzfeed-static/static/2018-06/13/15/asset/buzzfeed-prod-web-06/sub-buzz-20963-1528919028-7.png?downsize=700%3A%2A&output-quality=auto&output-format=auto&output-quality=auto&output-format=auto&downsize=360:*\n",
            "2019-07-07 06:37:22,374 - INFO - downloader - image #65\thttps://www.min-inuzukan.com/images/dog_img_miniature-dachshund.jpg?18102302\n",
            "2019-07-07 06:37:22,627 - INFO - downloader - image #66\thttps://s3-ap-northeast-1.amazonaws.com/dev.ribbon-s3-jpn/image-pet-2142-20190628234814-1.jpeg\n",
            "2019-07-07 06:37:23,251 - INFO - downloader - image #67\thttps://amd.c.yimg.jp/amd/20190702-00569119-shincho-000-2-view.jpg\n",
            "2019-07-07 06:37:23,882 - INFO - downloader - image #68\thttp://puppylife-navi.com/wp-content/uploads/2015/05/cb6727d15d44373e0e063ced332f9a1e_m.jpg\n",
            "2019-07-07 06:37:24,938 - INFO - downloader - image #69\thttps://ic3-a.wowma.net/mis/gr/114/image.wowma.jp/45918429/petio-online-shop/cabinet/item04/4903588257223_01.jpg\n",
            "2019-07-07 06:37:25,168 - ERROR - urllib3.connection - Certificate did not match expected hostname: eyes-h.com. Certificate: {'subject': ((('countryName', 'JP'),), (('organizationalUnitName', 'Domain Control Validated'),), (('commonName', 'alphaicon.com'),)), 'issuer': ((('countryName', 'BE'),), (('organizationName', 'GlobalSign nv-sa'),), (('commonName', 'GlobalSign Domain Validation CA - SHA256 - G2'),)), 'version': 3, 'serialNumber': '223A6AE91DC16AD9F580607B', 'notBefore': 'Jun 25 07:20:56 2018 GMT', 'notAfter': 'Sep  2 06:43:07 2019 GMT', 'subjectAltName': (('DNS', 'alphaicon.com'),), 'OCSP': ('http://ocsp2.globalsign.com/gsdomainvalsha2g2',), 'caIssuers': ('http://secure.globalsign.com/cacert/gsdomainvalsha2g2r1.crt',), 'crlDistributionPoints': ('http://crl.globalsign.com/gs/gsdomainvalsha2g2.crl',)}\n",
            "2019-07-07 06:37:25,170 - ERROR - downloader - Exception caught when downloading file https://eyes-h.com/uploads/article/image/00000/1090/45d81d323269fb3971373eddef26cf01.jpg, error: HTTPSConnectionPool(host='eyes-h.com', port=443): Max retries exceeded with url: /uploads/article/image/00000/1090/45d81d323269fb3971373eddef26cf01.jpg (Caused by SSLError(CertificateError(\"hostname 'eyes-h.com' doesn't match 'alphaicon.com'\",),)), remaining retry times: 2\n",
            "2019-07-07 06:37:25,325 - ERROR - urllib3.connection - Certificate did not match expected hostname: eyes-h.com. Certificate: {'subject': ((('countryName', 'JP'),), (('organizationalUnitName', 'Domain Control Validated'),), (('commonName', 'alphaicon.com'),)), 'issuer': ((('countryName', 'BE'),), (('organizationName', 'GlobalSign nv-sa'),), (('commonName', 'GlobalSign Domain Validation CA - SHA256 - G2'),)), 'version': 3, 'serialNumber': '223A6AE91DC16AD9F580607B', 'notBefore': 'Jun 25 07:20:56 2018 GMT', 'notAfter': 'Sep  2 06:43:07 2019 GMT', 'subjectAltName': (('DNS', 'alphaicon.com'),), 'OCSP': ('http://ocsp2.globalsign.com/gsdomainvalsha2g2',), 'caIssuers': ('http://secure.globalsign.com/cacert/gsdomainvalsha2g2r1.crt',), 'crlDistributionPoints': ('http://crl.globalsign.com/gs/gsdomainvalsha2g2.crl',)}\n",
            "2019-07-07 06:37:25,327 - ERROR - downloader - Exception caught when downloading file https://eyes-h.com/uploads/article/image/00000/1090/45d81d323269fb3971373eddef26cf01.jpg, error: HTTPSConnectionPool(host='eyes-h.com', port=443): Max retries exceeded with url: /uploads/article/image/00000/1090/45d81d323269fb3971373eddef26cf01.jpg (Caused by SSLError(CertificateError(\"hostname 'eyes-h.com' doesn't match 'alphaicon.com'\",),)), remaining retry times: 1\n",
            "2019-07-07 06:37:25,495 - ERROR - urllib3.connection - Certificate did not match expected hostname: eyes-h.com. Certificate: {'subject': ((('countryName', 'JP'),), (('organizationalUnitName', 'Domain Control Validated'),), (('commonName', 'alphaicon.com'),)), 'issuer': ((('countryName', 'BE'),), (('organizationName', 'GlobalSign nv-sa'),), (('commonName', 'GlobalSign Domain Validation CA - SHA256 - G2'),)), 'version': 3, 'serialNumber': '223A6AE91DC16AD9F580607B', 'notBefore': 'Jun 25 07:20:56 2018 GMT', 'notAfter': 'Sep  2 06:43:07 2019 GMT', 'subjectAltName': (('DNS', 'alphaicon.com'),), 'OCSP': ('http://ocsp2.globalsign.com/gsdomainvalsha2g2',), 'caIssuers': ('http://secure.globalsign.com/cacert/gsdomainvalsha2g2r1.crt',), 'crlDistributionPoints': ('http://crl.globalsign.com/gs/gsdomainvalsha2g2.crl',)}\n",
            "2019-07-07 06:37:25,497 - ERROR - downloader - Exception caught when downloading file https://eyes-h.com/uploads/article/image/00000/1090/45d81d323269fb3971373eddef26cf01.jpg, error: HTTPSConnectionPool(host='eyes-h.com', port=443): Max retries exceeded with url: /uploads/article/image/00000/1090/45d81d323269fb3971373eddef26cf01.jpg (Caused by SSLError(CertificateError(\"hostname 'eyes-h.com' doesn't match 'alphaicon.com'\",),)), remaining retry times: 0\n",
            "2019-07-07 06:37:25,573 - INFO - downloader - image #70\thttps://s3-ap-northeast-1.amazonaws.com/storage.withnews.jp/2019/05/06/f/f7/ff70c1aa-l.jpg\n",
            "2019-07-07 06:37:26,076 - INFO - downloader - image #71\thttps://www.docdog.jp/top/img/top/inutabi_top.jpg\n",
            "2019-07-07 06:37:26,480 - INFO - downloader - image #72\thttps://www.newsweekjapan.jp/stories/assets_c/2017/11/iStock-591830832-thumb-720xauto-123922.jpg\n",
            "2019-07-07 06:37:27,231 - INFO - downloader - image #73\thttp://www.city.hiroshima.lg.jp/www/contents/1392770667817/simple/31-4-7-2.jpg\n",
            "2019-07-07 06:37:27,363 - INFO - downloader - image #74\thttp://www.min-petlife.com/data/article/63043/main_63043_3c5e1_detail.jpg\n",
            "2019-07-07 06:37:27,921 - INFO - downloader - image #75\thttps://gigaplus.makeshop.jp/we2011/feature_photo/senior_anje01.jpg\n",
            "2019-07-07 06:37:28,410 - INFO - downloader - image #76\thttps://www.pref.ehime.jp/h25123/4415/images/190702saijyouinu1.jpg\n",
            "2019-07-07 06:37:28,820 - INFO - downloader - image #77\thttps://doghuggy.com/media/wp-content/uploads/2018/05/Picture1.png\n",
            "2019-07-07 06:37:29,443 - INFO - downloader - image #78\thttps://stat.ameba.jp/user_images/20190529/22/ntachi-to-sakura/6a/f5/j/o0720096014418639681.jpg\n",
            "2019-07-07 06:37:30,389 - INFO - downloader - image #79\thttps://houndcom-news.com/cms/wp-content/uploads/asg20181101_fv.jpg\n",
            "2019-07-07 06:37:30,493 - INFO - downloader - image #80\thttps://d1d7kfcb5oumx0.cloudfront.net/articles/images/5d1ea4fc662202614805cdfd/thumb_5AFB21CE-3B69-45DC-93B8-AC89F9CAF94F.jpg\n",
            "2019-07-07 06:37:30,971 - INFO - downloader - image #81\thttps://image.pet-home.jp/user_file/2019/07/07/1943486_th320.jpg\n",
            "2019-07-07 06:37:31,394 - INFO - downloader - image #82\thttps://www.veterinary-adoption.com/UPLOAD/animal/6758.jpg\n",
            "2019-07-07 06:37:31,976 - INFO - downloader - image #83\thttps://assets.media-platform.com/bi/dist/images/2018/03/19/58a5da1f54905724008b509d-w1280.jpg\n",
            "2019-07-07 06:37:32,278 - INFO - downloader - image #84\thttp://hanaflowerblooming.com/wp-content/uploads/2019/01/s.jpg\n",
            "2019-07-07 06:37:32,657 - INFO - downloader - image #85\thttps://www.mfr.co.jp/content/dam/mfrcojp/sumai/chishiki_019/img/s301-key.jpg\n",
            "2019-07-07 06:37:33,100 - INFO - downloader - image #86\thttps://readyfor.jp/s3/readyfor-img/project_photos/19618/medium/23f459777a0b251d42fe0643fd03e0577c74a3ea.png?1552917979\n",
            "2019-07-07 06:37:33,310 - INFO - downloader - image #87\thttps://image.itmedia.co.jp/nl/articles/1904/17/miya_1904innumigihook01.jpg\n",
            "2019-07-07 06:37:33,506 - INFO - downloader - image #88\thttps://images-na.ssl-images-amazon.com/images/I/41YzsB-1pzL._SX352_BO1,204,203,200_.jpg\n",
            "2019-07-07 06:37:33,852 - INFO - downloader - image #89\thttps://mag.anicom-sompo.co.jp/wp-content/uploads/2018/03/4456_1.jpg\n",
            "2019-07-07 06:37:34,121 - INFO - downloader - image #90\thttps://upload.wikimedia.org/wikipedia/commons/thumb/a/a1/Canine_reproduction.jpg/200px-Canine_reproduction.jpg\n",
            "2019-07-07 06:37:34,688 - INFO - downloader - image #91\thttps://www.city.otaru.lg.jp/simin/anzen/doubutu/dog.data/H1-1.JPG\n",
            "2019-07-07 06:37:35,035 - INFO - downloader - image #92\thttps://dramaticmemory.com/wp-content/uploads/2019/01/dog-1222370_640-426x500.jpg\n",
            "2019-07-07 06:37:35,454 - INFO - downloader - image #93\thttps://pds.exblog.jp/imgc/i=https%253A%252F%252Fpds.exblog.jp%252Fpds%252F1%252F201907%252F05%252F75%252Fb0011075_19031223.jpg,small=300,quality=75,type=jpg\n",
            "2019-07-07 06:37:35,818 - INFO - downloader - image #94\thttps://inubiyori.jp/wpsys/wp-content/uploads/2018/11/S151206-458-300x204.jpg\n",
            "2019-07-07 06:37:36,005 - INFO - downloader - image #95\thttps://img.benesse-cms.jp/pet-dog/item/image/normal/resized/resized_d6f1c3a3-0123-4679-a739-1a315b767f0b.jpg\n",
            "2019-07-07 06:37:36,214 - INFO - downloader - image #96\thttps://wanpedia.com/wordpress/wp-content/uploads/2016/09/post_3.jpg\n",
            "2019-07-07 06:37:36,462 - INFO - downloader - image #97\thttps://www.sankei.com/photo/images/news/180629/sty1806290020-f1.jpg\n",
            "2019-07-07 06:37:36,645 - INFO - downloader - image #98\thttp://livedoor.blogimg.jp/laba_q/imgs/6/c/6cc2de5b.jpg\n",
            "2019-07-07 06:37:37,037 - INFO - parser - no more page urls for thread parser-001 to parse\n",
            "2019-07-07 06:37:37,039 - INFO - parser - thread parser-001 exit\n",
            "2019-07-07 06:37:41,651 - INFO - downloader - no more download task for thread downloader-001\n",
            "2019-07-07 06:37:41,652 - INFO - downloader - thread downloader-001 exit\n",
            "2019-07-07 06:37:42,276 - INFO - icrawler.crawler - Crawling task done!\n"
          ],
          "name": "stderr"
        }
      ]
    },
    {
      "cell_type": "code",
      "metadata": {
        "id": "BuGdkpePJmIR",
        "colab_type": "code",
        "colab": {}
      },
      "source": [
        "from PIL import Image\n",
        "import os, glob\n",
        "import numpy as np\n",
        "classes = [\"dogs\", \"cats\"]\n",
        "num_classes = len(classes)\n",
        "image_size = 64\n",
        "num_testdata = 25\n",
        "\n",
        "X_train = []\n",
        "X_test  = []\n",
        "Y_train = []\n",
        "Y_test  = []\n",
        "\n",
        "for index, classlabel in enumerate(classes):\n",
        "    photos_dir = \"./\" + classlabel\n",
        "    files = glob.glob(photos_dir + \"/*.jpg\")\n",
        "    for i, file in enumerate(files):\n",
        "        image = Image.open(file)\n",
        "        image = image.convert(\"RGB\")\n",
        "        image = image.resize((image_size, image_size))\n",
        "        data = np.asarray(image)\n",
        "        if i < num_testdata:\n",
        "            X_test.append(data)\n",
        "            Y_test.append(index)\n",
        "        else:\n",
        "            for angle in range(-20, 20, 5):\n",
        "\n",
        "                img_r = image.rotate(angle)\n",
        "                data = np.asarray(img_r)\n",
        "                X_train.append(data)\n",
        "                Y_train.append(index)\n",
        "\n",
        "                img_trans = img_r.transpose(Image.FLIP_LEFT_RIGHT)\n",
        "                data = np.asarray(img_trans)\n",
        "                X_train.append(data)\n",
        "                Y_train.append(index)\n",
        "\n",
        "X_train = np.array(X_train)\n",
        "X_test  = np.array(X_test)\n",
        "y_train = np.array(Y_train)\n",
        "y_test  = np.array(Y_test)\n",
        "\n",
        "xy = (X_train, X_test, y_train, y_test)\n",
        "np.save(\"./dog_cat.npy\", xy)"
      ],
      "execution_count": 0,
      "outputs": []
    },
    {
      "cell_type": "code",
      "metadata": {
        "id": "OGGhf2n_L1rI",
        "colab_type": "code",
        "outputId": "f68c5dd2-2215-42cc-fc35-3b861b349c62",
        "colab": {
          "base_uri": "https://localhost:8080/",
          "height": 1000
        }
      },
      "source": [
        "from keras.models import Sequential\n",
        "from keras.layers import Conv2D, MaxPooling2D\n",
        "from keras.layers import Activation, Dropout, Flatten, Dense\n",
        "from keras.utils import np_utils\n",
        "import keras\n",
        "import numpy as np\n",
        "\n",
        "classes = [\"dog\", \"cat\"]\n",
        "num_classes = len(classes)\n",
        "image_size = 64\n",
        "\n",
        "\"\"\"\n",
        "データを読み込む関数\n",
        "\"\"\"\n",
        "def load_data():\n",
        "    X_train, X_test, y_train, y_test = np.load(\"./dog_cat.npy\", allow_pickle=True)\n",
        "    # データを正規化\n",
        "    X_train = X_train.astype(\"float\") / 255\n",
        "    X_test  = X_test.astype(\"float\") / 255\n",
        "    y_train = np_utils.to_categorical(y_train, num_classes)\n",
        "    y_test  = np_utils.to_categorical(y_test, num_classes)\n",
        "\n",
        "    return X_train, y_train, X_test, y_test\n",
        "\n",
        "\"\"\"\n",
        "モデルを学習する関数\n",
        "\"\"\"\n",
        "def train(X, y, X_test, y_test):\n",
        "    model = Sequential()\n",
        "    model.add(Conv2D(32,(3,3), padding='same',input_shape=X.shape[1:]))\n",
        "    model.add(Activation('relu'))\n",
        "    model.add(Conv2D(32,(3,3)))\n",
        "    model.add(Activation('relu'))\n",
        "    model.add(MaxPooling2D(pool_size=(2,2)))\n",
        "    model.add(Dropout(0.1))\n",
        "\n",
        "    model.add(Conv2D(64,(3,3), padding='same'))\n",
        "    model.add(Activation('relu'))\n",
        "    model.add(Conv2D(64,(3,3)))\n",
        "    model.add(Activation('relu'))\n",
        "    model.add(MaxPooling2D(pool_size=(2,2)))\n",
        "    model.add(Dropout(0.25))\n",
        "\n",
        "    model.add(Flatten())\n",
        "    model.add(Dense(512))\n",
        "    model.add(Activation('relu'))\n",
        "    model.add(Dropout(0.45))\n",
        "    model.add(Dense(2))\n",
        "    model.add(Activation('softmax'))\n",
        "\n",
        "    opt = keras.optimizers.rmsprop(lr=0.00005, decay=1e-6)\n",
        "    model.compile(loss='categorical_crossentropy',optimizer=opt,metrics=['accuracy'])\n",
        "    model.fit(X, y, batch_size=28, epochs=40)\n",
        "    model.save('./cnn.h5')\n",
        "\n",
        "    return model\n",
        "\n",
        "\"\"\"\n",
        "メイン関数\n",
        "データの読み込みとモデルの学習を行います。\n",
        "\"\"\"\n",
        "def main():\n",
        "    # データの読み込み\n",
        "    X_train, y_train, X_test, y_test = load_data()\n",
        "\n",
        "    # モデルの学習\n",
        "    model = train(X_train, y_train, X_test, y_test)\n",
        "\n",
        "main()"
      ],
      "execution_count": 0,
      "outputs": [
        {
          "output_type": "stream",
          "text": [
            "Using TensorFlow backend.\n",
            "WARNING: Logging before flag parsing goes to stderr.\n",
            "W0707 06:47:11.524570 139665584744320 deprecation_wrapper.py:119] From /usr/local/lib/python3.6/dist-packages/keras/backend/tensorflow_backend.py:74: The name tf.get_default_graph is deprecated. Please use tf.compat.v1.get_default_graph instead.\n",
            "\n",
            "W0707 06:47:11.565452 139665584744320 deprecation_wrapper.py:119] From /usr/local/lib/python3.6/dist-packages/keras/backend/tensorflow_backend.py:517: The name tf.placeholder is deprecated. Please use tf.compat.v1.placeholder instead.\n",
            "\n",
            "W0707 06:47:11.572332 139665584744320 deprecation_wrapper.py:119] From /usr/local/lib/python3.6/dist-packages/keras/backend/tensorflow_backend.py:4138: The name tf.random_uniform is deprecated. Please use tf.random.uniform instead.\n",
            "\n",
            "W0707 06:47:11.622119 139665584744320 deprecation_wrapper.py:119] From /usr/local/lib/python3.6/dist-packages/keras/backend/tensorflow_backend.py:3976: The name tf.nn.max_pool is deprecated. Please use tf.nn.max_pool2d instead.\n",
            "\n",
            "W0707 06:47:11.625579 139665584744320 deprecation_wrapper.py:119] From /usr/local/lib/python3.6/dist-packages/keras/backend/tensorflow_backend.py:133: The name tf.placeholder_with_default is deprecated. Please use tf.compat.v1.placeholder_with_default instead.\n",
            "\n",
            "W0707 06:47:11.639027 139665584744320 deprecation.py:506] From /usr/local/lib/python3.6/dist-packages/keras/backend/tensorflow_backend.py:3445: calling dropout (from tensorflow.python.ops.nn_ops) with keep_prob is deprecated and will be removed in a future version.\n",
            "Instructions for updating:\n",
            "Please use `rate` instead of `keep_prob`. Rate should be set to `rate = 1 - keep_prob`.\n",
            "W0707 06:47:11.867807 139665584744320 deprecation_wrapper.py:119] From /usr/local/lib/python3.6/dist-packages/keras/optimizers.py:790: The name tf.train.Optimizer is deprecated. Please use tf.compat.v1.train.Optimizer instead.\n",
            "\n",
            "W0707 06:47:11.880162 139665584744320 deprecation_wrapper.py:119] From /usr/local/lib/python3.6/dist-packages/keras/backend/tensorflow_backend.py:3295: The name tf.log is deprecated. Please use tf.math.log instead.\n",
            "\n",
            "W0707 06:47:12.032430 139665584744320 deprecation.py:323] From /usr/local/lib/python3.6/dist-packages/tensorflow/python/ops/math_grad.py:1250: add_dispatch_support.<locals>.wrapper (from tensorflow.python.ops.array_ops) is deprecated and will be removed in a future version.\n",
            "Instructions for updating:\n",
            "Use tf.where in 2.0, which has the same broadcast rule as np.where\n"
          ],
          "name": "stderr"
        },
        {
          "output_type": "stream",
          "text": [
            "Epoch 1/40\n",
            "1680/1680 [==============================] - 8s 5ms/step - loss: 0.6659 - acc: 0.5952\n",
            "Epoch 2/40\n",
            "1680/1680 [==============================] - 2s 1ms/step - loss: 0.6099 - acc: 0.6738\n",
            "Epoch 3/40\n",
            "1680/1680 [==============================] - 2s 1ms/step - loss: 0.5667 - acc: 0.6940\n",
            "Epoch 4/40\n",
            "1680/1680 [==============================] - 2s 1ms/step - loss: 0.5272 - acc: 0.7220\n",
            "Epoch 5/40\n",
            "1680/1680 [==============================] - 2s 1ms/step - loss: 0.4905 - acc: 0.7625\n",
            "Epoch 6/40\n",
            "1680/1680 [==============================] - 2s 1ms/step - loss: 0.4768 - acc: 0.7708\n",
            "Epoch 7/40\n",
            "1680/1680 [==============================] - 2s 1ms/step - loss: 0.4361 - acc: 0.8018\n",
            "Epoch 8/40\n",
            "1680/1680 [==============================] - 2s 1ms/step - loss: 0.3974 - acc: 0.8280\n",
            "Epoch 9/40\n",
            "1680/1680 [==============================] - 2s 1ms/step - loss: 0.3730 - acc: 0.8411\n",
            "Epoch 10/40\n",
            "1680/1680 [==============================] - 2s 1ms/step - loss: 0.3580 - acc: 0.8506\n",
            "Epoch 11/40\n",
            "1680/1680 [==============================] - 2s 1ms/step - loss: 0.3352 - acc: 0.8560\n",
            "Epoch 12/40\n",
            "1680/1680 [==============================] - 2s 1ms/step - loss: 0.2978 - acc: 0.8851\n",
            "Epoch 13/40\n",
            "1680/1680 [==============================] - 2s 1ms/step - loss: 0.2893 - acc: 0.8815\n",
            "Epoch 14/40\n",
            "1680/1680 [==============================] - 2s 1ms/step - loss: 0.2626 - acc: 0.8994\n",
            "Epoch 15/40\n",
            "1680/1680 [==============================] - 2s 1ms/step - loss: 0.2449 - acc: 0.9089\n",
            "Epoch 16/40\n",
            "1680/1680 [==============================] - 2s 1ms/step - loss: 0.2152 - acc: 0.9262\n",
            "Epoch 17/40\n",
            "1680/1680 [==============================] - 2s 1ms/step - loss: 0.2056 - acc: 0.9333\n",
            "Epoch 18/40\n",
            "1680/1680 [==============================] - 2s 1ms/step - loss: 0.1784 - acc: 0.9435\n",
            "Epoch 19/40\n",
            "1680/1680 [==============================] - 2s 1ms/step - loss: 0.1621 - acc: 0.9429\n",
            "Epoch 20/40\n",
            "1680/1680 [==============================] - 2s 1ms/step - loss: 0.1495 - acc: 0.9458\n",
            "Epoch 21/40\n",
            "1680/1680 [==============================] - 2s 1ms/step - loss: 0.1374 - acc: 0.9560\n",
            "Epoch 22/40\n",
            "1680/1680 [==============================] - 2s 1ms/step - loss: 0.1156 - acc: 0.9661\n",
            "Epoch 23/40\n",
            "1680/1680 [==============================] - 2s 1ms/step - loss: 0.1092 - acc: 0.9649\n",
            "Epoch 24/40\n",
            "1680/1680 [==============================] - 2s 1ms/step - loss: 0.0967 - acc: 0.9744\n",
            "Epoch 25/40\n",
            "1680/1680 [==============================] - 2s 1ms/step - loss: 0.0843 - acc: 0.9810\n",
            "Epoch 26/40\n",
            "1680/1680 [==============================] - 2s 1ms/step - loss: 0.0774 - acc: 0.9780\n",
            "Epoch 27/40\n",
            "1680/1680 [==============================] - 2s 1ms/step - loss: 0.0720 - acc: 0.9792\n",
            "Epoch 28/40\n",
            "1680/1680 [==============================] - 2s 1ms/step - loss: 0.0627 - acc: 0.9857\n",
            "Epoch 29/40\n",
            "1680/1680 [==============================] - 2s 1ms/step - loss: 0.0571 - acc: 0.9857\n",
            "Epoch 30/40\n",
            "1680/1680 [==============================] - 2s 1ms/step - loss: 0.0476 - acc: 0.9875\n",
            "Epoch 31/40\n",
            "1680/1680 [==============================] - 2s 1ms/step - loss: 0.0400 - acc: 0.9911\n",
            "Epoch 32/40\n",
            "1680/1680 [==============================] - 2s 1ms/step - loss: 0.0406 - acc: 0.9881\n",
            "Epoch 33/40\n",
            "1680/1680 [==============================] - 2s 1ms/step - loss: 0.0353 - acc: 0.9917\n",
            "Epoch 34/40\n",
            "1680/1680 [==============================] - 2s 1ms/step - loss: 0.0298 - acc: 0.9946\n",
            "Epoch 35/40\n",
            "1680/1680 [==============================] - 2s 1ms/step - loss: 0.0239 - acc: 0.9952\n",
            "Epoch 36/40\n",
            "1680/1680 [==============================] - 2s 1ms/step - loss: 0.0269 - acc: 0.9929\n",
            "Epoch 37/40\n",
            "1680/1680 [==============================] - 2s 1ms/step - loss: 0.0264 - acc: 0.9935\n",
            "Epoch 38/40\n",
            "1680/1680 [==============================] - 2s 1ms/step - loss: 0.0235 - acc: 0.9952\n",
            "Epoch 39/40\n",
            "1680/1680 [==============================] - 2s 1ms/step - loss: 0.0152 - acc: 0.9976\n",
            "Epoch 40/40\n",
            "1680/1680 [==============================] - 2s 1ms/step - loss: 0.0267 - acc: 0.9917\n"
          ],
          "name": "stdout"
        }
      ]
    },
    {
      "cell_type": "code",
      "metadata": {
        "id": "sBsL7mEYL7O9",
        "colab_type": "code",
        "outputId": "6ace9bf1-6bb0-4ecf-d364-90920ba3272c",
        "colab": {
          "resources": {
            "http://localhost:8080/nbextensions/google.colab/files.js": {
              "data": "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",
              "ok": true,
              "headers": [
                [
                  "content-type",
                  "application/javascript"
                ]
              ],
              "status": 200,
              "status_text": ""
            }
          },
          "base_uri": "https://localhost:8080/",
          "height": 71
        }
      },
      "source": [
        "from google.colab import files\n",
        "uploaded = files.upload()"
      ],
      "execution_count": 0,
      "outputs": [
        {
          "output_type": "display_data",
          "data": {
            "text/html": [
              "\n",
              "     <input type=\"file\" id=\"files-0c7e928c-829f-47c5-9cd1-d0f5fc140a0e\" name=\"files[]\" multiple disabled />\n",
              "     <output id=\"result-0c7e928c-829f-47c5-9cd1-d0f5fc140a0e\">\n",
              "      Upload widget is only available when the cell has been executed in the\n",
              "      current browser session. Please rerun this cell to enable.\n",
              "      </output>\n",
              "      <script src=\"/nbextensions/google.colab/files.js\"></script> "
            ],
            "text/plain": [
              "<IPython.core.display.HTML object>"
            ]
          },
          "metadata": {
            "tags": []
          }
        },
        {
          "output_type": "stream",
          "text": [
            "Saving dog1.jpg to dog1.jpg\n"
          ],
          "name": "stdout"
        }
      ]
    },
    {
      "cell_type": "code",
      "metadata": {
        "id": "9RqSZlT8NpOt",
        "colab_type": "code",
        "outputId": "8cf26d5c-2e78-433e-ad64-fce1ed90c78a",
        "colab": {
          "base_uri": "https://localhost:8080/",
          "height": 51
        }
      },
      "source": [
        "import keras\n",
        "import sys, os\n",
        "import numpy as np\n",
        "from keras.models import load_model\n",
        "\n",
        "imsize = (64, 64)\n",
        "\n",
        "\"\"\"\n",
        "dog1.jpgというファイル名の画像をGoogle Colab上にアップロードする方法は2通りあります。\n",
        "1つが、下記のコードを実行し画像をアップロードする方法\n",
        "from google.colab import files\n",
        "uploaded = files.upload()\n",
        "2つが、Colab左メニューの>アイコンを押して、目次、コード スニペット、ファイル\n",
        "の3つ表示されるますが、右のファイルタブから画像をアップロードする方法です。\n",
        "このファイルタブをクリックするとアップロードと更新の2つがありますが、\n",
        "アップロードを押すと画像をアップロードすることが可能です。\n",
        "\"\"\"\n",
        "\n",
        "testpic     = \"./dog1.jpg\"\n",
        "keras_param = \"./cnn.h5\"\n",
        "\n",
        "def load_image(path):\n",
        "    img = Image.open(path)\n",
        "    img = img.convert('RGB')\n",
        "    img = img.resize(imsize)\n",
        "    img = np.asarray(img)\n",
        "    img = img / 255.0\n",
        "    return img\n",
        "\n",
        "def get_file(dir_path):\n",
        "    filenames = os.listdir(dir_path)\n",
        "    return filenames\n",
        "\n",
        "if __name__ == \"__main__\":\n",
        "\n",
        "    model = load_model(keras_param)\n",
        "    img = load_image(testpic)\n",
        "    prd = model.predict(np.array([img]))\n",
        "    print(prd) # 精度の表示\n",
        "    prelabel = np.argmax(prd, axis=1)\n",
        "    if prelabel == 0:\n",
        "        print(\">>> 犬\")\n",
        "    elif prelabel == 1:\n",
        "        print(\">>> 猫\")"
      ],
      "execution_count": 0,
      "outputs": [
        {
          "output_type": "stream",
          "text": [
            "[[0.8797367  0.12026333]]\n",
            ">>> 犬\n"
          ],
          "name": "stdout"
        }
      ]
    },
    {
      "cell_type": "code",
      "metadata": {
        "id": "CfPQE827NvxO",
        "colab_type": "code",
        "outputId": "10aef969-553a-4bc8-f529-e024d401af49",
        "colab": {
          "resources": {
            "http://localhost:8080/nbextensions/google.colab/files.js": {
              "data": "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",
              "ok": true,
              "headers": [
                [
                  "content-type",
                  "application/javascript"
                ]
              ],
              "status": 200,
              "status_text": ""
            }
          },
          "base_uri": "https://localhost:8080/",
          "height": 71
        }
      },
      "source": [
        "from google.colab import files\n",
        "uploaded = files.upload()"
      ],
      "execution_count": 0,
      "outputs": [
        {
          "output_type": "display_data",
          "data": {
            "text/html": [
              "\n",
              "     <input type=\"file\" id=\"files-d6e33393-e1d9-4b0c-a703-396cb0bf5459\" name=\"files[]\" multiple disabled />\n",
              "     <output id=\"result-d6e33393-e1d9-4b0c-a703-396cb0bf5459\">\n",
              "      Upload widget is only available when the cell has been executed in the\n",
              "      current browser session. Please rerun this cell to enable.\n",
              "      </output>\n",
              "      <script src=\"/nbextensions/google.colab/files.js\"></script> "
            ],
            "text/plain": [
              "<IPython.core.display.HTML object>"
            ]
          },
          "metadata": {
            "tags": []
          }
        },
        {
          "output_type": "stream",
          "text": [
            "Saving cat1.jpg to cat1.jpg\n"
          ],
          "name": "stdout"
        }
      ]
    },
    {
      "cell_type": "code",
      "metadata": {
        "id": "EbzbYbZ6Nx_e",
        "colab_type": "code",
        "outputId": "c18ff7e8-0f4f-4c28-a4df-33d6d0338ddd",
        "colab": {
          "base_uri": "https://localhost:8080/",
          "height": 51
        }
      },
      "source": [
        "import keras\n",
        "import sys, os\n",
        "import numpy as np\n",
        "from keras.models import load_model\n",
        "\n",
        "imsize = (64, 64)\n",
        "\n",
        "\"\"\"\n",
        "dog1.jpgというファイル名の画像をGoogle Colab上にアップロードする方法は2通りあります。\n",
        "1つが、下記のコードを実行し画像をアップロードする方法\n",
        "from google.colab import files\n",
        "uploaded = files.upload()\n",
        "2つが、Colab左メニューの>アイコンを押して、目次、コード スニペット、ファイル\n",
        "の3つ表示されるますが、右のファイルタブから画像をアップロードする方法です。\n",
        "このファイルタブをクリックするとアップロードと更新の2つがありますが、\n",
        "アップロードを押すと画像をアップロードすることが可能です。\n",
        "\"\"\"\n",
        "\n",
        "testpic     = \"./cat1.jpg\"\n",
        "keras_param = \"./cnn.h5\"\n",
        "\n",
        "def load_image(path):\n",
        "    img = Image.open(path)\n",
        "    img = img.convert('RGB')\n",
        "    img = img.resize(imsize)\n",
        "    img = np.asarray(img)\n",
        "    img = img / 255.0\n",
        "    return img\n",
        "\n",
        "def get_file(dir_path):\n",
        "    filenames = os.listdir(dir_path)\n",
        "    return filenames\n",
        "\n",
        "if __name__ == \"__main__\":\n",
        "\n",
        "    model = load_model(keras_param)\n",
        "    img = load_image(testpic)\n",
        "    prd = model.predict(np.array([img]))\n",
        "    print(prd) # 精度の表示\n",
        "    prelabel = np.argmax(prd, axis=1)\n",
        "    if prelabel == 0:\n",
        "        print(\">>> 犬\")\n",
        "    elif prelabel == 1:\n",
        "        print(\">>> 猫\")"
      ],
      "execution_count": 0,
      "outputs": [
        {
          "output_type": "stream",
          "text": [
            "[[4.4418572e-04 9.9955577e-01]]\n",
            ">>> 猫\n"
          ],
          "name": "stdout"
        }
      ]
    },
    {
      "cell_type": "code",
      "metadata": {
        "id": "NN4VfiHmN1uJ",
        "colab_type": "code",
        "colab": {}
      },
      "source": [
        ""
      ],
      "execution_count": 0,
      "outputs": []
    }
  ]
}